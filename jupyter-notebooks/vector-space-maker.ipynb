{
 "cells": [
  {
   "cell_type": "code",
   "execution_count": 1,
   "metadata": {},
   "outputs": [],
   "source": [
    "db_name = 'ted-talks/ted-talks.db'"
   ]
  },
  {
   "cell_type": "markdown",
   "metadata": {},
   "source": [
    "# OCHO Properties"
   ]
  },
  {
   "cell_type": "code",
   "execution_count": 2,
   "metadata": {},
   "outputs": [],
   "source": [
    "OHCO = ['speaker', 'event', 'id', 'para_num', 'sent_num', 'token_num']\n",
    "AUTHS = OHCO[:1]\n",
    "BOOKS = OHCO[:2]\n",
    "CHAPS = OHCO[:3]\n",
    "PARAS = OHCO[:4]\n",
    "SENTS = OHCO[:5]\n",
    "\n",
    "BAG = CHAPS"
   ]
  },
  {
   "cell_type": "code",
   "execution_count": 3,
   "metadata": {},
   "outputs": [],
   "source": [
    "import sqlite3\n",
    "import pandas as pd\n",
    "import numpy as np"
   ]
  },
  {
   "cell_type": "code",
   "execution_count": 4,
   "metadata": {},
   "outputs": [],
   "source": [
    "with sqlite3.connect(db_name) as db:\n",
    "    tokens = pd.read_sql('SELECT * FROM token', db, index_col=OHCO)\n",
    "    vocab = pd.read_sql('SELECT * FROM vocab', db, index_col='term_id')\n",
    "    docs =  pd.read_sql('SELECT * FROM doc', db, index_col=CHAPS)"
   ]
  },
  {
   "cell_type": "code",
   "execution_count": 5,
   "metadata": {},
   "outputs": [],
   "source": [
    "WORDS = (tokens.punc == 0) & (tokens.num == 0)\n",
    "BOW = tokens[WORDS].groupby(BAG + ['term_id'])['term_id'].count()"
   ]
  },
  {
   "cell_type": "code",
   "execution_count": 6,
   "metadata": {},
   "outputs": [],
   "source": [
    "DTM = BOW.unstack().fillna(0)\n",
    "bags = pd.DataFrame(index = DTM.index)\n",
    "DTM = DTM.reset_index(drop=True)\n",
    "DTM.index.name = 'bag_id'"
   ]
  },
  {
   "cell_type": "code",
   "execution_count": 7,
   "metadata": {},
   "outputs": [],
   "source": [
    "N_docs = DTM.shape[0]\n",
    "vocab['df'] = DTM[DTM > 0].count()\n",
    "vocab['idf'] = np.log10(N_docs / vocab.df)\n",
    "# vocab[vocab.stop==0].sort_values('n', ascending=False).head(500).sort_values('idf', ascending=False).head(20)"
   ]
  },
  {
   "cell_type": "code",
   "execution_count": 8,
   "metadata": {},
   "outputs": [],
   "source": [
    "TFIDF = DTM * vocab['idf']\n",
    "vocab[TFIDF.sum() == 0]\n",
    "vocab['tfidf_sum'] = TFIDF.sum()\n",
    "vocab['tfidf_mean'] = TFIDF.mean()\n",
    "vocab['tfidf_max'] = TFIDF.max()"
   ]
  },
  {
   "cell_type": "code",
   "execution_count": 9,
   "metadata": {},
   "outputs": [],
   "source": [
    "def get_top_terms(vocab, no_stops=True, sort_col='n', k=1000):\n",
    "    if no_stops:\n",
    "        V = vocab[vocab.stop == 0]\n",
    "    else:\n",
    "        V = vocab\n",
    "    return V.sort_values(sort_col, ascending=False).head(k)"
   ]
  },
  {
   "cell_type": "code",
   "execution_count": 59,
   "metadata": {},
   "outputs": [],
   "source": [
    "# proper_nouns = tokens.loc[tokens.pos == 'NNP', 'term_id'].unique()\n",
    "top_n = 100\n",
    "TOPV = get_top_terms(vocab, sort_col='n', k=top_n)\n",
    "# TOPV = get_top_terms(vocab.loc[vocab.index.isin(proper_nouns)], sort_col='n', k=top_n)"
   ]
  },
  {
   "cell_type": "code",
   "execution_count": 62,
   "metadata": {},
   "outputs": [
    {
     "data": {
      "text/plain": [
       "bag_id  term_id\n",
       "2436    73937       0.000000\n",
       "968     66354       0.000000\n",
       "        65135       0.000000\n",
       "        27102       0.000000\n",
       "        37450       0.000000\n",
       "        57410       0.000000\n",
       "2198    65797       0.000000\n",
       "968     37061       0.000000\n",
       "        43668       0.000000\n",
       "        4597        0.000000\n",
       "2198    30688       0.000000\n",
       "968     37804       0.000000\n",
       "2198    17224       0.000000\n",
       "        23449       0.000000\n",
       "968     44012       0.000000\n",
       "2198    33784       0.000000\n",
       "968     56909       0.000000\n",
       "        68714       0.000000\n",
       "2198    62691       0.000000\n",
       "        6084        0.000000\n",
       "        31272       0.000000\n",
       "968     55799       0.000000\n",
       "        26820       0.000000\n",
       "        71903       0.000000\n",
       "        38746       0.000000\n",
       "        66387       0.000000\n",
       "        72408       0.000000\n",
       "        581         0.000000\n",
       "        73955       0.000000\n",
       "2198    6252        0.000000\n",
       "                     ...    \n",
       "1297    7795       21.369898\n",
       "261     7795       21.369898\n",
       "1295    7795       22.082228\n",
       "2614    7795       22.082228\n",
       "1778    73338      22.233365\n",
       "2888    73338      22.233365\n",
       "2921    73338      22.887288\n",
       "775     7795       23.506888\n",
       "1944    7795       23.506888\n",
       "2836    7795       23.506888\n",
       "2711    73338      23.541211\n",
       "2490    73338      24.195133\n",
       "3248    7795       24.931548\n",
       "1075    73338      25.502978\n",
       "3024    7795       25.643878\n",
       "3245    7795       26.356208\n",
       "2231    7795       26.356208\n",
       "1246    73338      26.810823\n",
       "1875    73338      27.464746\n",
       "2922    73338      28.118668\n",
       "1483    7795       29.205527\n",
       "925     7795       29.917857\n",
       "1484    7795       32.767177\n",
       "2398    73338      33.350048\n",
       "924     7795       34.191837\n",
       "509     73338      36.619661\n",
       "2303    7795       37.041157\n",
       "192     7795       40.602806\n",
       "2198    7795       42.027466\n",
       "3082    7795       46.301446\n",
       "Name: w, Length: 336700, dtype: float64"
      ]
     },
     "execution_count": 62,
     "metadata": {},
     "output_type": "execute_result"
    }
   ],
   "source": [
    "tfidf_small = TFIDF[TOPV.index].stack().to_frame().rename(columns={0:'w'})"
   ]
  },
  {
   "cell_type": "code",
   "execution_count": 17,
   "metadata": {},
   "outputs": [],
   "source": [
    "tokens.head()"
   ]
  },
  {
   "cell_type": "code",
   "execution_count": 13,
   "metadata": {},
   "outputs": [
    {
     "data": {
      "text/html": [
       "<div>\n",
       "<style scoped>\n",
       "    .dataframe tbody tr th:only-of-type {\n",
       "        vertical-align: middle;\n",
       "    }\n",
       "\n",
       "    .dataframe tbody tr th {\n",
       "        vertical-align: top;\n",
       "    }\n",
       "\n",
       "    .dataframe thead th {\n",
       "        text-align: right;\n",
       "    }\n",
       "</style>\n",
       "<table border=\"1\" class=\"dataframe\">\n",
       "  <thead>\n",
       "    <tr style=\"text-align: right;\">\n",
       "      <th></th>\n",
       "      <th>term_str</th>\n",
       "      <th>n</th>\n",
       "      <th>p</th>\n",
       "      <th>port_stem</th>\n",
       "      <th>stop</th>\n",
       "      <th>df</th>\n",
       "      <th>idf</th>\n",
       "      <th>tfidf_sum</th>\n",
       "      <th>tfidf_mean</th>\n",
       "      <th>tfidf_max</th>\n",
       "    </tr>\n",
       "    <tr>\n",
       "      <th>term_id</th>\n",
       "      <th></th>\n",
       "      <th></th>\n",
       "      <th></th>\n",
       "      <th></th>\n",
       "      <th></th>\n",
       "      <th></th>\n",
       "      <th></th>\n",
       "      <th></th>\n",
       "      <th></th>\n",
       "      <th></th>\n",
       "    </tr>\n",
       "  </thead>\n",
       "  <tbody>\n",
       "    <tr>\n",
       "      <th>0</th>\n",
       "      <td>a</td>\n",
       "      <td>149535</td>\n",
       "      <td>2.416183e-02</td>\n",
       "      <td>a</td>\n",
       "      <td>1</td>\n",
       "      <td>3361</td>\n",
       "      <td>0.000775</td>\n",
       "      <td>115.830397</td>\n",
       "      <td>0.034402</td>\n",
       "      <td>0.166540</td>\n",
       "    </tr>\n",
       "    <tr>\n",
       "      <th>1</th>\n",
       "      <td>aa</td>\n",
       "      <td>10</td>\n",
       "      <td>1.615797e-06</td>\n",
       "      <td>aa</td>\n",
       "      <td>0</td>\n",
       "      <td>5</td>\n",
       "      <td>2.828273</td>\n",
       "      <td>28.282731</td>\n",
       "      <td>0.008400</td>\n",
       "      <td>8.484819</td>\n",
       "    </tr>\n",
       "    <tr>\n",
       "      <th>2</th>\n",
       "      <td>aaa</td>\n",
       "      <td>9</td>\n",
       "      <td>1.454218e-06</td>\n",
       "      <td>aaa</td>\n",
       "      <td>0</td>\n",
       "      <td>5</td>\n",
       "      <td>2.828273</td>\n",
       "      <td>25.454458</td>\n",
       "      <td>0.007560</td>\n",
       "      <td>14.141366</td>\n",
       "    </tr>\n",
       "    <tr>\n",
       "      <th>3</th>\n",
       "      <td>aaaaa</td>\n",
       "      <td>2</td>\n",
       "      <td>3.231595e-07</td>\n",
       "      <td>aaaaa</td>\n",
       "      <td>0</td>\n",
       "      <td>2</td>\n",
       "      <td>3.226213</td>\n",
       "      <td>6.452426</td>\n",
       "      <td>0.001916</td>\n",
       "      <td>3.226213</td>\n",
       "    </tr>\n",
       "    <tr>\n",
       "      <th>4</th>\n",
       "      <td>aaaaaaaah</td>\n",
       "      <td>1</td>\n",
       "      <td>1.615797e-07</td>\n",
       "      <td>aaaaaaaah</td>\n",
       "      <td>0</td>\n",
       "      <td>1</td>\n",
       "      <td>3.527243</td>\n",
       "      <td>3.527243</td>\n",
       "      <td>0.001048</td>\n",
       "      <td>3.527243</td>\n",
       "    </tr>\n",
       "  </tbody>\n",
       "</table>\n",
       "</div>"
      ],
      "text/plain": [
       "          term_str       n             p  port_stem  stop    df       idf  \\\n",
       "term_id                                                                     \n",
       "0                a  149535  2.416183e-02          a     1  3361  0.000775   \n",
       "1               aa      10  1.615797e-06         aa     0     5  2.828273   \n",
       "2              aaa       9  1.454218e-06        aaa     0     5  2.828273   \n",
       "3            aaaaa       2  3.231595e-07      aaaaa     0     2  3.226213   \n",
       "4        aaaaaaaah       1  1.615797e-07  aaaaaaaah     0     1  3.527243   \n",
       "\n",
       "          tfidf_sum  tfidf_mean  tfidf_max  \n",
       "term_id                                     \n",
       "0        115.830397    0.034402   0.166540  \n",
       "1         28.282731    0.008400   8.484819  \n",
       "2         25.454458    0.007560  14.141366  \n",
       "3          6.452426    0.001916   3.226213  \n",
       "4          3.527243    0.001048   3.527243  "
      ]
     },
     "execution_count": 13,
     "metadata": {},
     "output_type": "execute_result"
    }
   ],
   "source": [
    "vocab.head()"
   ]
  },
  {
   "cell_type": "code",
   "execution_count": 14,
   "metadata": {},
   "outputs": [
    {
     "data": {
      "text/html": [
       "<div>\n",
       "<style scoped>\n",
       "    .dataframe tbody tr th:only-of-type {\n",
       "        vertical-align: middle;\n",
       "    }\n",
       "\n",
       "    .dataframe tbody tr th {\n",
       "        vertical-align: top;\n",
       "    }\n",
       "\n",
       "    .dataframe thead th {\n",
       "        text-align: right;\n",
       "    }\n",
       "</style>\n",
       "<table border=\"1\" class=\"dataframe\">\n",
       "  <thead>\n",
       "    <tr style=\"text-align: right;\">\n",
       "      <th></th>\n",
       "      <th></th>\n",
       "      <th></th>\n",
       "      <th>transcript</th>\n",
       "    </tr>\n",
       "    <tr>\n",
       "      <th>speaker</th>\n",
       "      <th>event</th>\n",
       "      <th>id</th>\n",
       "      <th></th>\n",
       "    </tr>\n",
       "  </thead>\n",
       "  <tbody>\n",
       "    <tr>\n",
       "      <th>Crush Club</th>\n",
       "      <th>TED Salon: Radical Craft</th>\n",
       "      <th>35945</th>\n",
       "      <td>\\nTC Milan: How you doing tonight? New York!\\n...</td>\n",
       "    </tr>\n",
       "    <tr>\n",
       "      <th>JR</th>\n",
       "      <th>Torchbearers</th>\n",
       "      <th>13010</th>\n",
       "      <td>JR: Art is not supposed to change the world. B...</td>\n",
       "    </tr>\n",
       "    <tr>\n",
       "      <th>OK Go</th>\n",
       "      <th>TED2017</th>\n",
       "      <th>2792</th>\n",
       "      <td>\\n\\n\\n\\n\\nYou know you can't keep letting it g...</td>\n",
       "    </tr>\n",
       "    <tr>\n",
       "      <th>Sauti Sol</th>\n",
       "      <th>TEDGlobal 2017</th>\n",
       "      <th>12803</th>\n",
       "      <td>\\n Ooh ooh\\nShe wants to be rich\\nShe wants to...</td>\n",
       "    </tr>\n",
       "    <tr>\n",
       "      <th>A Tribe Called Red</th>\n",
       "      <th>TED2018</th>\n",
       "      <th>26265</th>\n",
       "      <td>\\nWe are the tribe that they cannot see\\nWe li...</td>\n",
       "    </tr>\n",
       "  </tbody>\n",
       "</table>\n",
       "</div>"
      ],
      "text/plain": [
       "                                                                                          transcript\n",
       "speaker            event                    id                                                      \n",
       " Crush Club        TED Salon: Radical Craft 35945  \\nTC Milan: How you doing tonight? New York!\\n...\n",
       " JR                Torchbearers             13010  JR: Art is not supposed to change the world. B...\n",
       " OK Go             TED2017                  2792   \\n\\n\\n\\n\\nYou know you can't keep letting it g...\n",
       " Sauti Sol         TEDGlobal 2017           12803  \\n Ooh ooh\\nShe wants to be rich\\nShe wants to...\n",
       "A Tribe Called Red TED2018                  26265  \\nWe are the tribe that they cannot see\\nWe li..."
      ]
     },
     "execution_count": 14,
     "metadata": {},
     "output_type": "execute_result"
    }
   ],
   "source": [
    "docs.head()"
   ]
  },
  {
   "cell_type": "code",
   "execution_count": 16,
   "metadata": {},
   "outputs": [
    {
     "data": {
      "text/html": [
       "<div>\n",
       "<style scoped>\n",
       "    .dataframe tbody tr th:only-of-type {\n",
       "        vertical-align: middle;\n",
       "    }\n",
       "\n",
       "    .dataframe tbody tr th {\n",
       "        vertical-align: top;\n",
       "    }\n",
       "\n",
       "    .dataframe thead th {\n",
       "        text-align: right;\n",
       "    }\n",
       "</style>\n",
       "<table border=\"1\" class=\"dataframe\">\n",
       "  <thead>\n",
       "    <tr style=\"text-align: right;\">\n",
       "      <th></th>\n",
       "      <th></th>\n",
       "      <th></th>\n",
       "    </tr>\n",
       "    <tr>\n",
       "      <th>speaker</th>\n",
       "      <th>event</th>\n",
       "      <th>id</th>\n",
       "    </tr>\n",
       "  </thead>\n",
       "  <tbody>\n",
       "    <tr>\n",
       "      <th>Crush Club</th>\n",
       "      <th>TED Salon: Radical Craft</th>\n",
       "      <th>35945</th>\n",
       "    </tr>\n",
       "    <tr>\n",
       "      <th>JR</th>\n",
       "      <th>Torchbearers</th>\n",
       "      <th>13010</th>\n",
       "    </tr>\n",
       "    <tr>\n",
       "      <th>OK Go</th>\n",
       "      <th>TED2017</th>\n",
       "      <th>2792</th>\n",
       "    </tr>\n",
       "    <tr>\n",
       "      <th>Sauti Sol</th>\n",
       "      <th>TEDGlobal 2017</th>\n",
       "      <th>12803</th>\n",
       "    </tr>\n",
       "    <tr>\n",
       "      <th>A Tribe Called Red</th>\n",
       "      <th>TED2018</th>\n",
       "      <th>26265</th>\n",
       "    </tr>\n",
       "  </tbody>\n",
       "</table>\n",
       "</div>"
      ],
      "text/plain": [
       "Empty DataFrame\n",
       "Columns: []\n",
       "Index: [( Crush Club, TED Salon: Radical Craft, 35945), ( JR, Torchbearers, 13010), ( OK Go, TED2017, 2792), ( Sauti Sol, TEDGlobal 2017, 12803), (A Tribe Called Red, TED2018, 26265)]"
      ]
     },
     "execution_count": 16,
     "metadata": {},
     "output_type": "execute_result"
    }
   ],
   "source": [
    "bags.head()"
   ]
  },
  {
   "cell_type": "code",
   "execution_count": null,
   "metadata": {},
   "outputs": [],
   "source": [
    "with sqlite3.connect(db_name) as db:\n",
    "    vocab.to_sql('vocab', db, if_exists='replace', index=True)\n",
    "    tokens.to_sql('token', db, if_exists='replace', index=True)\n",
    "    docs.to_sql('doc', db, if_exists='replace', index=True)\n",
    "    tfidf_small.to_sql('tfidf_small', db, if_exists='replace', index=True)\n",
    "    bags.reset_index().to_sql('bag', db, if_exists='replace', index=True, index_label='bag_id')"
   ]
  }
 ],
 "metadata": {
  "kernelspec": {
   "display_name": "Python 3",
   "language": "python",
   "name": "python3"
  },
  "language_info": {
   "codemirror_mode": {
    "name": "ipython",
    "version": 3
   },
   "file_extension": ".py",
   "mimetype": "text/x-python",
   "name": "python",
   "nbconvert_exporter": "python",
   "pygments_lexer": "ipython3",
   "version": "3.7.1"
  }
 },
 "nbformat": 4,
 "nbformat_minor": 2
}
