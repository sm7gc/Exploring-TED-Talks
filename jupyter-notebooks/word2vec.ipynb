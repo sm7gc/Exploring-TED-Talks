{
 "cells": [
  {
   "cell_type": "code",
   "execution_count": 2,
   "metadata": {},
   "outputs": [],
   "source": [
    "db_name = 'ted-talks/ted-talks.db'"
   ]
  },
  {
   "cell_type": "code",
   "execution_count": 3,
   "metadata": {},
   "outputs": [],
   "source": [
    "OHCO = ['speaker', 'event', 'id', 'para_num', 'sent_num', 'token_num']\n",
    "AUTHS = OHCO[:1]\n",
    "BOOKS = OHCO[:2]\n",
    "CHAPS = OHCO[:3]\n",
    "PARAS = OHCO[:4]\n",
    "SENTS = OHCO[:5]\n",
    "\n",
    "BAG = CHAPS"
   ]
  },
  {
   "cell_type": "code",
   "execution_count": 4,
   "metadata": {},
   "outputs": [],
   "source": [
    "import pandas as pd\n",
    "import numpy as np\n",
    "import sqlite3\n",
    "\n",
    "import sys\n",
    "from gensim.models import word2vec\n",
    "from sklearn.manifold import TSNE\n",
    "import matplotlib.pyplot as plt"
   ]
  },
  {
   "cell_type": "markdown",
   "metadata": {},
   "source": [
    "### Pragmas"
   ]
  },
  {
   "cell_type": "code",
   "execution_count": 5,
   "metadata": {},
   "outputs": [],
   "source": [
    "%matplotlib inline"
   ]
  },
  {
   "cell_type": "code",
   "execution_count": 6,
   "metadata": {},
   "outputs": [],
   "source": [
    "with sqlite3.connect(db_name) as db:\n",
    "    tokens = pd.read_sql('SELECT * FROM token', db, index_col=OHCO)\n",
    "    vocab = pd.read_sql('SELECT * FROM vocab', db, index_col='term_id')\n",
    "    docs =  pd.read_sql('SELECT * FROM doc', db, index_col=CHAPS)"
   ]
  },
  {
   "cell_type": "code",
   "execution_count": 7,
   "metadata": {},
   "outputs": [
    {
     "data": {
      "text/html": [
       "<div>\n",
       "<style scoped>\n",
       "    .dataframe tbody tr th:only-of-type {\n",
       "        vertical-align: middle;\n",
       "    }\n",
       "\n",
       "    .dataframe tbody tr th {\n",
       "        vertical-align: top;\n",
       "    }\n",
       "\n",
       "    .dataframe thead th {\n",
       "        text-align: right;\n",
       "    }\n",
       "</style>\n",
       "<table border=\"1\" class=\"dataframe\">\n",
       "  <thead>\n",
       "    <tr style=\"text-align: right;\">\n",
       "      <th></th>\n",
       "      <th></th>\n",
       "      <th></th>\n",
       "      <th></th>\n",
       "      <th></th>\n",
       "      <th></th>\n",
       "      <th>pos</th>\n",
       "      <th>token_str</th>\n",
       "      <th>punc</th>\n",
       "      <th>num</th>\n",
       "      <th>term_str</th>\n",
       "      <th>term_id</th>\n",
       "    </tr>\n",
       "    <tr>\n",
       "      <th>speaker</th>\n",
       "      <th>event</th>\n",
       "      <th>id</th>\n",
       "      <th>para_num</th>\n",
       "      <th>sent_num</th>\n",
       "      <th>token_num</th>\n",
       "      <th></th>\n",
       "      <th></th>\n",
       "      <th></th>\n",
       "      <th></th>\n",
       "      <th></th>\n",
       "      <th></th>\n",
       "    </tr>\n",
       "  </thead>\n",
       "  <tbody>\n",
       "    <tr>\n",
       "      <th rowspan=\"5\" valign=\"top\">Crush Club</th>\n",
       "      <th rowspan=\"5\" valign=\"top\">TED Salon: Radical Craft</th>\n",
       "      <th rowspan=\"5\" valign=\"top\">35945</th>\n",
       "      <th rowspan=\"5\" valign=\"top\">1</th>\n",
       "      <th rowspan=\"5\" valign=\"top\">0</th>\n",
       "      <th>0</th>\n",
       "      <td>NNP</td>\n",
       "      <td>TC</td>\n",
       "      <td>0</td>\n",
       "      <td>0</td>\n",
       "      <td>tc</td>\n",
       "      <td>65498</td>\n",
       "    </tr>\n",
       "    <tr>\n",
       "      <th>1</th>\n",
       "      <td>NNP</td>\n",
       "      <td>Milan:</td>\n",
       "      <td>0</td>\n",
       "      <td>0</td>\n",
       "      <td>milan</td>\n",
       "      <td>41011</td>\n",
       "    </tr>\n",
       "    <tr>\n",
       "      <th>2</th>\n",
       "      <td>NNP</td>\n",
       "      <td>How</td>\n",
       "      <td>0</td>\n",
       "      <td>0</td>\n",
       "      <td>how</td>\n",
       "      <td>30566</td>\n",
       "    </tr>\n",
       "    <tr>\n",
       "      <th>3</th>\n",
       "      <td>PRP</td>\n",
       "      <td>you</td>\n",
       "      <td>0</td>\n",
       "      <td>0</td>\n",
       "      <td>you</td>\n",
       "      <td>74082</td>\n",
       "    </tr>\n",
       "    <tr>\n",
       "      <th>4</th>\n",
       "      <td>VBG</td>\n",
       "      <td>doing</td>\n",
       "      <td>0</td>\n",
       "      <td>0</td>\n",
       "      <td>doing</td>\n",
       "      <td>18342</td>\n",
       "    </tr>\n",
       "  </tbody>\n",
       "</table>\n",
       "</div>"
      ],
      "text/plain": [
       "                                                                        pos  \\\n",
       "speaker     event                    id    para_num sent_num token_num        \n",
       " Crush Club TED Salon: Radical Craft 35945 1        0        0          NNP   \n",
       "                                                             1          NNP   \n",
       "                                                             2          NNP   \n",
       "                                                             3          PRP   \n",
       "                                                             4          VBG   \n",
       "\n",
       "                                                                       token_str  \\\n",
       "speaker     event                    id    para_num sent_num token_num             \n",
       " Crush Club TED Salon: Radical Craft 35945 1        0        0                TC   \n",
       "                                                             1            Milan:   \n",
       "                                                             2               How   \n",
       "                                                             3               you   \n",
       "                                                             4             doing   \n",
       "\n",
       "                                                                        punc  \\\n",
       "speaker     event                    id    para_num sent_num token_num         \n",
       " Crush Club TED Salon: Radical Craft 35945 1        0        0             0   \n",
       "                                                             1             0   \n",
       "                                                             2             0   \n",
       "                                                             3             0   \n",
       "                                                             4             0   \n",
       "\n",
       "                                                                        num  \\\n",
       "speaker     event                    id    para_num sent_num token_num        \n",
       " Crush Club TED Salon: Radical Craft 35945 1        0        0            0   \n",
       "                                                             1            0   \n",
       "                                                             2            0   \n",
       "                                                             3            0   \n",
       "                                                             4            0   \n",
       "\n",
       "                                                                       term_str  \\\n",
       "speaker     event                    id    para_num sent_num token_num            \n",
       " Crush Club TED Salon: Radical Craft 35945 1        0        0               tc   \n",
       "                                                             1            milan   \n",
       "                                                             2              how   \n",
       "                                                             3              you   \n",
       "                                                             4            doing   \n",
       "\n",
       "                                                                        term_id  \n",
       "speaker     event                    id    para_num sent_num token_num           \n",
       " Crush Club TED Salon: Radical Craft 35945 1        0        0            65498  \n",
       "                                                             1            41011  \n",
       "                                                             2            30566  \n",
       "                                                             3            74082  \n",
       "                                                             4            18342  "
      ]
     },
     "execution_count": 7,
     "metadata": {},
     "output_type": "execute_result"
    }
   ],
   "source": [
    "tokens.head()"
   ]
  },
  {
   "cell_type": "code",
   "execution_count": 8,
   "metadata": {},
   "outputs": [],
   "source": [
    "tokens = tokens[~tokens.term_str.isna()]\n",
    "corpus = tokens.groupby(OHCO).term_str.apply(lambda  x:  x.tolist()).reset_index()['term_str'].tolist()"
   ]
  },
  {
   "cell_type": "code",
   "execution_count": 11,
   "metadata": {},
   "outputs": [
    {
     "data": {
      "text/plain": [
       "[['tc'], ['milan'], ['how'], ['you'], ['doing']]"
      ]
     },
     "execution_count": 11,
     "metadata": {},
     "output_type": "execute_result"
    }
   ],
   "source": [
    "corpus[:5]"
   ]
  },
  {
   "cell_type": "markdown",
   "metadata": {},
   "source": [
    "## Generate word embeddings with Gensim's library"
   ]
  },
  {
   "cell_type": "code",
   "execution_count": null,
   "metadata": {},
   "outputs": [],
   "source": [
    "model = word2vec.Word2Vec(corpus, size=246, window=5, min_count=200, workers=4)"
   ]
  },
  {
   "cell_type": "markdown",
   "metadata": {},
   "source": [
    "## Visualize with tSNE"
   ]
  },
  {
   "cell_type": "code",
   "execution_count": null,
   "metadata": {},
   "outputs": [],
   "source": [
    "coords = pd.DataFrame(index=range(len(model.wv.vocab)))\n",
    "coords['label'] = [w for w in model.wv.vocab]\n",
    "coords['vector'] = coords['label'].apply(lambda x: model.wv.get_vector(x))"
   ]
  },
  {
   "cell_type": "code",
   "execution_count": null,
   "metadata": {},
   "outputs": [],
   "source": [
    "tsne_model = TSNE(perplexity=40, n_components=2, init='pca', n_iter=2500, random_state=23)\n",
    "tsne_values = tsne_model.fit_transform(coords['vector'].tolist())"
   ]
  },
  {
   "cell_type": "code",
   "execution_count": null,
   "metadata": {},
   "outputs": [],
   "source": [
    "coords['x'] = tsne_values[:,0]\n",
    "coords['y'] = tsne_values[:,1]"
   ]
  },
  {
   "cell_type": "code",
   "execution_count": null,
   "metadata": {},
   "outputs": [],
   "source": [
    "coords.head()"
   ]
  },
  {
   "cell_type": "code",
   "execution_count": null,
   "metadata": {},
   "outputs": [],
   "source": [
    "plt.figure(figsize=(16, 16)) \n",
    "for i in range(len(coords)):\n",
    "    plt.scatter(coords.x[i],coords.y[i])\n",
    "    plt.annotate(word_labels[i],\n",
    "                 xy=(coords.x[i], coords.y[i]),\n",
    "                 xytext=(5, 2),\n",
    "                 textcoords='offset points',\n",
    "                 ha='right',\n",
    "                 va='bottom')\n",
    "plt.show()"
   ]
  }
 ],
 "metadata": {
  "kernelspec": {
   "display_name": "Python 3",
   "language": "python",
   "name": "python3"
  },
  "language_info": {
   "codemirror_mode": {
    "name": "ipython",
    "version": 3
   },
   "file_extension": ".py",
   "mimetype": "text/x-python",
   "name": "python",
   "nbconvert_exporter": "python",
   "pygments_lexer": "ipython3",
   "version": "3.7.1"
  }
 },
 "nbformat": 4,
 "nbformat_minor": 2
}
