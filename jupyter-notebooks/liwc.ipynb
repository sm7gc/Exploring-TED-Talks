{
 "cells": [
  {
   "cell_type": "code",
   "execution_count": 11,
   "metadata": {},
   "outputs": [],
   "source": [
    "db_file = '../ted-talks/ted-talks.db'"
   ]
  },
  {
   "cell_type": "code",
   "execution_count": 12,
   "metadata": {},
   "outputs": [],
   "source": [
    "OHCO = ['speaker', 'event', 'id', 'para_num', 'sent_num', 'token_num']\n",
    "AUTHS = OHCO[:1]\n",
    "BOOKS = OHCO[:2]\n",
    "CHAPS = OHCO[:3]\n",
    "PARAS = OHCO[:4]\n",
    "SENTS = OHCO[:5]\n",
    "\n",
    "BAG = CHAPS"
   ]
  },
  {
   "cell_type": "code",
   "execution_count": 13,
   "metadata": {},
   "outputs": [],
   "source": [
    "import sqlite3\n",
    "import pandas as pd\n",
    "import numpy as np\n",
    "\n",
    "from sklearn.preprocessing import normalize\n",
    "from sklearn.decomposition import PCA\n",
    "\n",
    "import plotly\n",
    "import plotly.plotly as py\n",
    "import plotly.graph_objs as go"
   ]
  },
  {
   "cell_type": "code",
   "execution_count": 14,
   "metadata": {},
   "outputs": [],
   "source": [
    "with sqlite3.connect(db_file) as db:  \n",
    "    tokens = pd.read_sql('SELECT * FROM token', db, index_col=OHCO)\n",
    "    docs =  pd.read_sql('SELECT * FROM doc', db, index_col=CHAPS)\n",
    "    vocab = pd.read_sql(\"select * from vocab\", db, index_col='term_id')\n",
    "    bags = pd.read_sql(\"SELECT * FROM bag\", db, index_col='bag_id')\n",
    "    tfidf = pd.read_sql(\"SELECT * FROM tfidf_small\", db, index_col=['bag_id','term_id'])"
   ]
  },
  {
   "cell_type": "code",
   "execution_count": null,
   "metadata": {},
   "outputs": [],
   "source": [
    "df = pd.read_json('../ted-talks.json', orient='records')"
   ]
  },
  {
   "cell_type": "code",
   "execution_count": null,
   "metadata": {},
   "outputs": [],
   "source": [
    "col = list(df.columns.values)\n",
    "\n",
    "liwc_col = list(set(col) - \\\n",
    "                set(['comments', 'description', 'duration', 'event', 'headline', 'languages', \\\n",
    "                     'main_speaker', 'num_speaker', 'published_date', 'ratings', 'related_talks', \\\n",
    "                     'speaker_occupation', 'tags', 'title', 'transcript', 'transcript_url', 'url', 'views', 'year_filmed']))"
   ]
  },
  {
   "cell_type": "code",
   "execution_count": null,
   "metadata": {},
   "outputs": [],
   "source": [
    "data = [\n",
    "    go.Parcoords(\n",
    "        line = dict(color = df['WC'],\n",
    "                    colorscale = 'Viridis',\n",
    "                    showscale = True,\n",
    "                    reversescale = True\n",
    "                   ),\n",
    "        dimensions = list([\n",
    "            dict(range = [0,100],\n",
    "                label = 'Analytic', values = df['Analytic']),\n",
    "            \n",
    "            dict(range = [0,100],\n",
    "                label = 'Authentic', values = df['Authentic']),\n",
    "            \n",
    "            dict(range = [0,100],\n",
    "                label = 'Clout', values = df['Clout']),\n",
    "            \n",
    "            dict(range = [0,100],\n",
    "                label = 'Cognitive Processes', values = df['cogproc']),\n",
    "            \n",
    "            dict(range = [0,100],\n",
    "                label = 'Insight', values = df['insight']),\n",
    "            \n",
    "            dict(range = [0,100],\n",
    "                label = 'Tone', values = df['Tone']),\n",
    "            \n",
    "            dict(range = [0,100],\n",
    "                label = 'Affect', values = df['affect'])\n",
    "        ])\n",
    "    )\n",
    "]\n",
    "\n",
    "# layout = go.Layout(\n",
    "#     plot_bgcolor = '#E5E5E5',\n",
    "#     paper_bgcolor = '#E5E5E5'\n",
    "# )\n",
    "\n",
    "# fig = go.Figure(data = data, layout = layout)\n",
    "py.iplot(data, filename = 'parcoords-basic')"
   ]
  },
  {
   "cell_type": "code",
   "execution_count": null,
   "metadata": {},
   "outputs": [],
   "source": []
  }
 ],
 "metadata": {
  "kernelspec": {
   "display_name": "Python 3",
   "language": "python",
   "name": "python3"
  },
  "language_info": {
   "codemirror_mode": {
    "name": "ipython",
    "version": 3
   },
   "file_extension": ".py",
   "mimetype": "text/x-python",
   "name": "python",
   "nbconvert_exporter": "python",
   "pygments_lexer": "ipython3",
   "version": "3.7.1"
  }
 },
 "nbformat": 4,
 "nbformat_minor": 2
}
