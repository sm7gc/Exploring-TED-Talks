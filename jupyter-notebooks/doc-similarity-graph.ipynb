{
 "cells": [
  {
   "cell_type": "code",
   "execution_count": 23,
   "metadata": {},
   "outputs": [],
   "source": [
    "db_file = 'ted-talks/ted-talks.db'\n",
    "\n",
    "OHCO = ['speaker', 'event', 'id', 'para_num', 'sent_num', 'token_num']\n",
    "AUTHS = OHCO[:1]\n",
    "BOOKS = OHCO[:2]\n",
    "CHAPS = OHCO[:3]\n",
    "PARAS = OHCO[:4]\n",
    "SENTS = OHCO[:5]\n",
    "\n",
    "BAG = CHAPS"
   ]
  },
  {
   "cell_type": "code",
   "execution_count": 24,
   "metadata": {},
   "outputs": [],
   "source": [
    "from sklearn.feature_extraction.text import TfidfVectorizer\n",
    "import sqlite3\n",
    "import pandas as pd\n",
    "import numpy as np\n",
    "\n",
    "import networkx as nx"
   ]
  },
  {
   "cell_type": "code",
   "execution_count": 48,
   "metadata": {},
   "outputs": [],
   "source": [
    "ted_talks = pd.read_json('interactive-visual/ted-talks.json', orient='records').set_index('id')\n",
    "view_range = (ted_talks[\"views\"].min(), ted_talks[\"views\"].max())\n",
    "size_range = (5, 20)\n",
    "ted_talks[\"views_z\"] = ted_talks[\"views\"].apply(lambda x: (x - view_range[0])*(size_range[1]-size_range[0])/(view_range[1]-view_range[0]) + size_range[0])\n",
    "talks = docs.dropna().index.unique(level='id')"
   ]
  },
  {
   "cell_type": "code",
   "execution_count": 26,
   "metadata": {},
   "outputs": [],
   "source": [
    "with sqlite3.connect(db_file) as db:  \n",
    "    docs =  pd.read_sql('SELECT * FROM doc', db, index_col=CHAPS)"
   ]
  },
  {
   "cell_type": "code",
   "execution_count": 27,
   "metadata": {},
   "outputs": [
    {
     "data": {
      "text/html": [
       "<div>\n",
       "<style scoped>\n",
       "    .dataframe tbody tr th:only-of-type {\n",
       "        vertical-align: middle;\n",
       "    }\n",
       "\n",
       "    .dataframe tbody tr th {\n",
       "        vertical-align: top;\n",
       "    }\n",
       "\n",
       "    .dataframe thead th {\n",
       "        text-align: right;\n",
       "    }\n",
       "</style>\n",
       "<table border=\"1\" class=\"dataframe\">\n",
       "  <thead>\n",
       "    <tr style=\"text-align: right;\">\n",
       "      <th></th>\n",
       "      <th></th>\n",
       "      <th></th>\n",
       "      <th>transcript</th>\n",
       "    </tr>\n",
       "    <tr>\n",
       "      <th>speaker</th>\n",
       "      <th>event</th>\n",
       "      <th>id</th>\n",
       "      <th></th>\n",
       "    </tr>\n",
       "  </thead>\n",
       "  <tbody>\n",
       "    <tr>\n",
       "      <th>Crush Club</th>\n",
       "      <th>TED Salon: Radical Craft</th>\n",
       "      <th>35945</th>\n",
       "      <td>\\nTC Milan: How you doing tonight? New York!\\n...</td>\n",
       "    </tr>\n",
       "    <tr>\n",
       "      <th>JR</th>\n",
       "      <th>Torchbearers</th>\n",
       "      <th>13010</th>\n",
       "      <td>JR: Art is not supposed to change the world. B...</td>\n",
       "    </tr>\n",
       "    <tr>\n",
       "      <th>OK Go</th>\n",
       "      <th>TED2017</th>\n",
       "      <th>2792</th>\n",
       "      <td>\\n\\n\\n\\n\\nYou know you can't keep letting it g...</td>\n",
       "    </tr>\n",
       "    <tr>\n",
       "      <th>Sauti Sol</th>\n",
       "      <th>TEDGlobal 2017</th>\n",
       "      <th>12803</th>\n",
       "      <td>\\n Ooh ooh\\nShe wants to be rich\\nShe wants to...</td>\n",
       "    </tr>\n",
       "    <tr>\n",
       "      <th>A Tribe Called Red</th>\n",
       "      <th>TED2018</th>\n",
       "      <th>26265</th>\n",
       "      <td>\\nWe are the tribe that they cannot see\\nWe li...</td>\n",
       "    </tr>\n",
       "  </tbody>\n",
       "</table>\n",
       "</div>"
      ],
      "text/plain": [
       "                                                                                          transcript\n",
       "speaker            event                    id                                                      \n",
       " Crush Club        TED Salon: Radical Craft 35945  \\nTC Milan: How you doing tonight? New York!\\n...\n",
       " JR                Torchbearers             13010  JR: Art is not supposed to change the world. B...\n",
       " OK Go             TED2017                  2792   \\n\\n\\n\\n\\nYou know you can't keep letting it g...\n",
       " Sauti Sol         TEDGlobal 2017           12803  \\n Ooh ooh\\nShe wants to be rich\\nShe wants to...\n",
       "A Tribe Called Red TED2018                  26265  \\nWe are the tribe that they cannot see\\nWe li..."
      ]
     },
     "execution_count": 27,
     "metadata": {},
     "output_type": "execute_result"
    }
   ],
   "source": [
    "docs.dropna().head()"
   ]
  },
  {
   "cell_type": "code",
   "execution_count": 28,
   "metadata": {},
   "outputs": [],
   "source": [
    "documents = docs.dropna()[\"transcript\"].tolist()\n",
    "tfidf = TfidfVectorizer().fit_transform(documents)\n",
    "pairwise_similarity = (tfidf * tfidf.T).A # no need to normalize, since Vectorizer will return normalized tf-idf"
   ]
  },
  {
   "cell_type": "code",
   "execution_count": 29,
   "metadata": {},
   "outputs": [
    {
     "data": {
      "text/plain": [
       "<matplotlib.axes._subplots.AxesSubplot at 0x1a3434f588>"
      ]
     },
     "execution_count": 29,
     "metadata": {},
     "output_type": "execute_result"
    },
    {
     "data": {
      "image/png": "[encoded data removed]",
      "text/plain": [
       "<Figure size 432x288 with 1 Axes>"
      ]
     },
     "metadata": {
      "needs_background": "light"
     },
     "output_type": "display_data"
    }
   ],
   "source": [
    "pd.DataFrame(pairwise_similarity)[1000].hist()"
   ]
  },
  {
   "cell_type": "code",
   "execution_count": 61,
   "metadata": {},
   "outputs": [
    {
     "name": "stderr",
     "output_type": "stream",
     "text": [
      "3367it [00:03, 975.87it/s] \n"
     ]
    }
   ],
   "source": [
    "from tqdm import tqdm\n",
    "\n",
    "sim_thresh = 0.75\n",
    "\n",
    "E = []\n",
    "vals = []\n",
    "for i, row in tqdm(enumerate(pairwise_similarity)):\n",
    "    for j, val in enumerate(row):\n",
    "        if i == j: continue\n",
    "        if val > sim_thresh and (j, i) not in E:\n",
    "            E += [(talks[i], talks[j])]\n",
    "            vals += [val]\n",
    "            \n",
    "nodes = list(set(j for i in E for j in i))"
   ]
  },
  {
   "cell_type": "code",
   "execution_count": 62,
   "metadata": {},
   "outputs": [],
   "source": [
    "G=nx.Graph()\n",
    "G.add_nodes_from(nodes)\n",
    "G.add_edges_from(E)"
   ]
  },
  {
   "cell_type": "code",
   "execution_count": 63,
   "metadata": {},
   "outputs": [],
   "source": [
    "pos=nx.spring_layout(G)"
   ]
  },
  {
   "cell_type": "code",
   "execution_count": 64,
   "metadata": {},
   "outputs": [],
   "source": [
    "# Nodes\n",
    "Xv=[pos[k][0] for k in nodes] # range(pairwise_similarity.shape[0])\n",
    "Yv=[pos[k][1] for k in nodes]\n",
    "Tv = [ted_talks.loc[k,\"headline\"] for k in nodes]\n",
    "Cv = [ted_talks.loc[k,\"event\"] for k in nodes]\n",
    "Sv = [ted_talks.loc[k,\"views_z\"] for k in nodes]"
   ]
  },
  {
   "cell_type": "code",
   "execution_count": 65,
   "metadata": {},
   "outputs": [],
   "source": [
    "# Edges\n",
    "Xed=[]\n",
    "Yed=[]\n",
    "# Ted=[]\n",
    "for i, j in E:\n",
    "    Xed+=[pos[i][0],pos[j][0], None]\n",
    "    Yed+=[pos[i][1],pos[j][1], None]\n",
    "#     Ted+=[ted_talks.loc[talks[i],\"headline\"] + \" <-> \" + ted_talks.loc[talks[i],\"headline\"]]\n",
    "\n",
    "Ced=Sed=vals"
   ]
  },
  {
   "cell_type": "code",
   "execution_count": 81,
   "metadata": {},
   "outputs": [
    {
     "data": {
      "text/html": [
       "<iframe id=\"igraph\" scrolling=\"no\" style=\"border:none;\" seamless=\"seamless\" src=\"https://plot.ly/~sm7gc/11.embed\" height=\"600px\" width=\"600px\"></iframe>"
      ],
      "text/plain": [
       "<chart_studio.tools.PlotlyDisplay object>"
      ]
     },
     "execution_count": 81,
     "metadata": {},
     "output_type": "execute_result"
    }
   ],
   "source": [
    "import plotly.plotly as py\n",
    "from plotly.graph_objs import *\n",
    "\n",
    "edges = Scatter(x=Xed,\n",
    "                y=Yed,\n",
    "                mode='lines',\n",
    "                line=dict(\n",
    "                    width=1,\n",
    "                    color='#888'\n",
    "                ),\n",
    "#                 marker=dict(\n",
    "# #                     size=Sed,\n",
    "# #                     color=Ced\n",
    "#                     showscale=True,\n",
    "#                     # colorscale options\n",
    "#                     #'Greys' | 'YlGnBu' | 'Greens' | 'YlOrRd' | 'Bluered' | 'RdBu' |\n",
    "#                     #'Reds' | 'Blues' | 'Picnic' | 'Rainbow' | 'Portland' | 'Jet' |\n",
    "#                     #'Hot' | 'Blackbody' | 'Earth' | 'Electric' | 'Viridis' |\n",
    "#                     colorscale='Greys',\n",
    "#                     reversescale=True,\n",
    "#                     color=Ced\n",
    "#                 ),\n",
    "                hoverinfo='none'\n",
    ")\n",
    "\n",
    "nodes = Scatter(x=Xv,\n",
    "                y=Yv,\n",
    "                text=Tv,\n",
    "                mode='markers',\n",
    "                hoverinfo='text',\n",
    "                marker=dict(\n",
    "                    showscale=True,\n",
    "                    # colorscale options\n",
    "                    #'Greys' | 'YlGnBu' | 'Greens' | 'YlOrRd' | 'Bluered' | 'RdBu' |\n",
    "                    #'Reds' | 'Blues' | 'Picnic' | 'Rainbow' | 'Portland' | 'Jet' |\n",
    "                    #'Hot' | 'Blackbody' | 'Earth' | 'Electric' | 'Viridis' |\n",
    "                    colorscale='Viridis',\n",
    "                    reversescale=True,\n",
    "                    color=Sv,\n",
    "#                     size=Sv,\n",
    "                    size=7,\n",
    "                    colorbar=dict(\n",
    "                        thickness=15,\n",
    "                        title='# of Views',\n",
    "                        xanchor='left',\n",
    "                        titleside='right'\n",
    "                    )\n",
    "#                     ,line=dict(width=2)\n",
    "                )\n",
    ")\n",
    "\n",
    "axis=dict(showline=False, # hide axis line, grid, ticklabels and  title\n",
    "          zeroline=False,\n",
    "          showgrid=False,\n",
    "          showticklabels=False,\n",
    "          title='' \n",
    ")\n",
    "\n",
    "width=height=600\n",
    "layout=Layout(title= \"Top 100 most similar TED Talks\",  \n",
    "    font= dict(size=12),\n",
    "    showlegend=False,\n",
    "    autosize=False,\n",
    "    width=width,\n",
    "    height=height,\n",
    "    xaxis=layout.XAxis(axis),\n",
    "    yaxis=layout.YAxis(axis),          \n",
    "#     margin=layout.Margin(\n",
    "#         l=40,\n",
    "#         r=40,\n",
    "#         b=85,\n",
    "#         t=100,\n",
    "#     ),\n",
    "    hovermode='closest'\n",
    ")\n",
    "\n",
    "data1=[edges, nodes]\n",
    "fig1=Figure(data=data1, layout=layout)\n",
    "py.iplot(fig1, filename='networkx')"
   ]
  },
  {
   "cell_type": "code",
   "execution_count": null,
   "metadata": {},
   "outputs": [],
   "source": []
  }
 ],
 "metadata": {
  "kernelspec": {
   "display_name": "Python 3",
   "language": "python",
   "name": "python3"
  },
  "language_info": {
   "codemirror_mode": {
    "name": "ipython",
    "version": 3
   },
   "file_extension": ".py",
   "mimetype": "text/x-python",
   "name": "python",
   "nbconvert_exporter": "python",
   "pygments_lexer": "ipython3",
   "version": "3.7.1"
  }
 },
 "nbformat": 4,
 "nbformat_minor": 2
}
