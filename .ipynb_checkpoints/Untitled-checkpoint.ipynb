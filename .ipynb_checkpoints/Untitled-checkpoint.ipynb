{
 "cells": [
  {
   "cell_type": "code",
   "execution_count": 1,
   "metadata": {},
   "outputs": [],
   "source": [
    "\n",
    "import pandas as pd"
   ]
  },
  {
   "cell_type": "code",
   "execution_count": 3,
   "metadata": {},
   "outputs": [],
   "source": [
    "# Merging transcripts and metadata from Kaggle\n",
    "transcript = pd.read_csv(\"ted-talks/transcripts.csv\")\n",
    "metadata = pd.read_csv(\"ted-talks/ted_main.csv\")\n",
    "kaggle_df = pd.merge(transcript, metadata, on=[\"url\"])\n",
    "kaggle_df.to_csv(\"ted-talks/ted-kaggle.csv\", index=False)\n"
   ]
  },
  {
   "cell_type": "code",
   "execution_count": null,
   "metadata": {},
   "outputs": [],
   "source": [
    "# OWEN TEMPLE\n",
    "ot_df = pd.read_csv(\"final_project/ted-talks/TED_Talks_by_ID_plus-transcripts-and-LIWC-and-MFT-plus-views.csv\")\n",
    "\n",
    "# SCRAPED\n",
    "scrape_df = pd.read_csv(\"final_project/ted-talks/ted-talks-scraped.csv\")\n",
    "\n",
    "\n",
    "pd.merge(scrape_df, ot_df, left_on=\"title\", right_on=\"headline\", suffixes=(\"_kaggle\", \"_owentemple\"))\n",
    "\n",
    "\n",
    "\n",
    "df[\"transcript_split\"] = df[\"transcript\"].str.split()\n",
    "df[\"transcript_len\"] = df[\"transcript_split\"].str.len()"
   ]
  }
 ],
 "metadata": {
  "kernelspec": {
   "display_name": "Python 3",
   "language": "python",
   "name": "python3"
  },
  "language_info": {
   "codemirror_mode": {
    "name": "ipython",
    "version": 3
   },
   "file_extension": ".py",
   "mimetype": "text/x-python",
   "name": "python",
   "nbconvert_exporter": "python",
   "pygments_lexer": "ipython3",
   "version": "3.7.1"
  }
 },
 "nbformat": 4,
 "nbformat_minor": 2
}
